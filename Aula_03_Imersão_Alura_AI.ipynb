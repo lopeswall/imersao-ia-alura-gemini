{
  "nbformat": 4,
  "nbformat_minor": 0,
  "metadata": {
    "colab": {
      "provenance": []
    },
    "kernelspec": {
      "name": "python3",
      "display_name": "Python 3"
    },
    "language_info": {
      "name": "python"
    }
  },
  "cells": [
    {
      "cell_type": "code",
      "execution_count": null,
      "metadata": {
        "colab": {
          "base_uri": "https://localhost:8080/"
        },
        "id": "MXqbCUHlmfrC",
        "outputId": "f67c2d6c-e624-434f-abe1-d02b84c88a6b"
      },
      "outputs": [
        {
          "output_type": "execute_result",
          "data": {
            "text/plain": [
              "9"
            ]
          },
          "metadata": {},
          "execution_count": 1
        }
      ],
      "source": [
        "2 + 7"
      ]
    },
    {
      "cell_type": "code",
      "source": [
        "9 - 5"
      ],
      "metadata": {
        "colab": {
          "base_uri": "https://localhost:8080/"
        },
        "id": "k4NddX3AoHa9",
        "outputId": "27df15d8-32e3-4570-a128-233c311abc6a"
      },
      "execution_count": null,
      "outputs": [
        {
          "output_type": "execute_result",
          "data": {
            "text/plain": [
              "4"
            ]
          },
          "metadata": {},
          "execution_count": 5
        }
      ]
    },
    {
      "cell_type": "code",
      "source": [
        "7 * 5"
      ],
      "metadata": {
        "colab": {
          "base_uri": "https://localhost:8080/"
        },
        "id": "Jo8yLnltoUW2",
        "outputId": "c34f59d0-b169-441b-f4c9-0c0e6e1f946b"
      },
      "execution_count": null,
      "outputs": [
        {
          "output_type": "execute_result",
          "data": {
            "text/plain": [
              "35"
            ]
          },
          "metadata": {},
          "execution_count": 6
        }
      ]
    },
    {
      "cell_type": "code",
      "source": [
        "9 / 3"
      ],
      "metadata": {
        "colab": {
          "base_uri": "https://localhost:8080/"
        },
        "id": "rs1EtDBGobFA",
        "outputId": "a441f9ca-86a4-4041-9750-4fe634af21c0"
      },
      "execution_count": null,
      "outputs": [
        {
          "output_type": "execute_result",
          "data": {
            "text/plain": [
              "3.0"
            ]
          },
          "metadata": {},
          "execution_count": 7
        }
      ]
    },
    {
      "cell_type": "code",
      "source": [
        "9 / 2"
      ],
      "metadata": {
        "colab": {
          "base_uri": "https://localhost:8080/"
        },
        "id": "IqnKg6DQou5m",
        "outputId": "5a3dc256-5440-4331-aa57-2e45dc555a48"
      },
      "execution_count": null,
      "outputs": [
        {
          "output_type": "execute_result",
          "data": {
            "text/plain": [
              "4.5"
            ]
          },
          "metadata": {},
          "execution_count": 8
        }
      ]
    },
    {
      "cell_type": "code",
      "source": [
        "primeira_operacao = 2258 + 6354"
      ],
      "metadata": {
        "id": "b5k-lMq2pQxy"
      },
      "execution_count": null,
      "outputs": []
    },
    {
      "cell_type": "code",
      "source": [
        "segunda_operacao = 8 - 5"
      ],
      "metadata": {
        "id": "RJtcgEu1pcS0"
      },
      "execution_count": null,
      "outputs": []
    },
    {
      "cell_type": "code",
      "source": [
        "print(primeira_operacao)"
      ],
      "metadata": {
        "colab": {
          "base_uri": "https://localhost:8080/"
        },
        "id": "enpQPq1Up16h",
        "outputId": "66c3aaf4-1b07-4aed-f105-89c9b7320088"
      },
      "execution_count": null,
      "outputs": [
        {
          "output_type": "stream",
          "name": "stdout",
          "text": [
            "8612\n"
          ]
        }
      ]
    },
    {
      "cell_type": "code",
      "source": [
        "print (segunda_operacao)"
      ],
      "metadata": {
        "colab": {
          "base_uri": "https://localhost:8080/"
        },
        "id": "xy8m5g4ap52R",
        "outputId": "b2e4ff31-dbd9-46cd-d45a-c54b868b9b94"
      },
      "execution_count": null,
      "outputs": [
        {
          "output_type": "stream",
          "name": "stdout",
          "text": [
            "3\n"
          ]
        }
      ]
    },
    {
      "cell_type": "code",
      "source": [
        "primeira_operacao * segunda_operacao"
      ],
      "metadata": {
        "colab": {
          "base_uri": "https://localhost:8080/"
        },
        "id": "z0ql4nvop91_",
        "outputId": "7e7bdf1f-4406-4d81-fae0-a55a0c6fd74d"
      },
      "execution_count": null,
      "outputs": [
        {
          "output_type": "execute_result",
          "data": {
            "text/plain": [
              "25836"
            ]
          },
          "metadata": {},
          "execution_count": 15
        }
      ]
    },
    {
      "cell_type": "code",
      "source": [
        "print ('olá mundo')"
      ],
      "metadata": {
        "colab": {
          "base_uri": "https://localhost:8080/"
        },
        "id": "nJzlmUIpqWNj",
        "outputId": "4d96b8fa-90db-4bd6-a6af-4674b6f79305"
      },
      "execution_count": null,
      "outputs": [
        {
          "output_type": "stream",
          "name": "stdout",
          "text": [
            "olá mundo\n"
          ]
        }
      ]
    },
    {
      "cell_type": "code",
      "source": [
        "multiplicacao = primeira_operacao * segunda_operacao"
      ],
      "metadata": {
        "id": "mxo3PdzWqqZT"
      },
      "execution_count": null,
      "outputs": []
    },
    {
      "cell_type": "code",
      "source": [
        "print (multiplicacao)"
      ],
      "metadata": {
        "colab": {
          "base_uri": "https://localhost:8080/"
        },
        "id": "9b-U7kGpqwTr",
        "outputId": "e8667e70-351e-41cd-d3d2-97efe84dda2a"
      },
      "execution_count": null,
      "outputs": [
        {
          "output_type": "stream",
          "name": "stdout",
          "text": [
            "25836\n"
          ]
        }
      ]
    },
    {
      "cell_type": "code",
      "source": [
        "print (\"o resultado da multiplicação é\", multiplicacao)"
      ],
      "metadata": {
        "colab": {
          "base_uri": "https://localhost:8080/"
        },
        "id": "9chS3f8grBUx",
        "outputId": "60d0a1e4-ca3c-49f5-b1e2-9a6ef7da0c2b"
      },
      "execution_count": null,
      "outputs": [
        {
          "output_type": "stream",
          "name": "stdout",
          "text": [
            "o resultado da multiplicação é 25836\n"
          ]
        }
      ]
    },
    {
      "cell_type": "code",
      "source": [
        "Nome1 = input(\"Digite seu nome: \")"
      ],
      "metadata": {
        "colab": {
          "base_uri": "https://localhost:8080/"
        },
        "id": "DiagQNNFsqEd",
        "outputId": "ac9c4a10-8c70-4934-9afe-ecbc8d666d26"
      },
      "execution_count": null,
      "outputs": [
        {
          "name": "stdout",
          "output_type": "stream",
          "text": [
            "Digite seu nome: Wallace\n"
          ]
        }
      ]
    },
    {
      "cell_type": "code",
      "source": [
        "Nome2 = input(\"Digite seu nome: \")"
      ],
      "metadata": {
        "colab": {
          "base_uri": "https://localhost:8080/"
        },
        "id": "xd5ROIEws3L3",
        "outputId": "154772ed-75df-4788-94bb-f3e8ba40743d"
      },
      "execution_count": null,
      "outputs": [
        {
          "name": "stdout",
          "output_type": "stream",
          "text": [
            "Digite seu nome: Danielle\n"
          ]
        }
      ]
    },
    {
      "cell_type": "code",
      "source": [
        "print(f\"Hoje estamos com {Nome1} e {Nome2} para esta live!\")"
      ],
      "metadata": {
        "colab": {
          "base_uri": "https://localhost:8080/"
        },
        "id": "I5auwHzNtRr8",
        "outputId": "e1517656-4262-47e5-e441-6ff84fae4da3"
      },
      "execution_count": null,
      "outputs": [
        {
          "output_type": "stream",
          "name": "stdout",
          "text": [
            "Hoje estamos com Wallace e Danielle para esta live!\n"
          ]
        }
      ]
    },
    {
      "cell_type": "code",
      "source": [
        "Idade = input (\"Digite sua idade: \")"
      ],
      "metadata": {
        "colab": {
          "base_uri": "https://localhost:8080/"
        },
        "id": "95Rp5Mvtt9Oc",
        "outputId": "31c5afc5-8c0d-4ac1-f6b1-a3f7e8418feb"
      },
      "execution_count": null,
      "outputs": [
        {
          "name": "stdout",
          "output_type": "stream",
          "text": [
            "Digite sua idade: 18\n"
          ]
        }
      ]
    },
    {
      "cell_type": "code",
      "source": [
        "if int (Idade) >= 18:\n",
        "  print(\"Você é maior de idade!\")\n",
        "  print(\"Você pode entrar!\")\n",
        "\n",
        "else:\n",
        "  print(\"Você é menor de idade!\")\n",
        "  print(\"Você não pode entrar!\")"
      ],
      "metadata": {
        "colab": {
          "base_uri": "https://localhost:8080/"
        },
        "id": "Rld5JOHSuKkR",
        "outputId": "ce1c6ca0-9f31-4ff4-9278-930352acef5c"
      },
      "execution_count": null,
      "outputs": [
        {
          "output_type": "stream",
          "name": "stdout",
          "text": [
            "Você é maior de idade!\n",
            "Você pode entrar!\n"
          ]
        }
      ]
    },
    {
      "cell_type": "code",
      "source": [
        "def verificar_idade(idade) :\n",
        "    if int (Idade) >= 18:\n",
        "        print(\"Você é maior de idade!\")\n",
        "        print(\"Você pode entrar!\")\n",
        "    else:\n",
        "        print(\"Você é menor de idade!\")\n",
        "        print(\"Você não pode entrar!\")"
      ],
      "metadata": {
        "id": "tbB2ddKQvsNz"
      },
      "execution_count": null,
      "outputs": []
    },
    {
      "cell_type": "code",
      "source": [
        "verificar_idade(idade=14)"
      ],
      "metadata": {
        "colab": {
          "base_uri": "https://localhost:8080/"
        },
        "id": "C2JqFskNwSWX",
        "outputId": "e43828d2-bb4d-4519-8105-fd06798b0098"
      },
      "execution_count": null,
      "outputs": [
        {
          "output_type": "stream",
          "name": "stdout",
          "text": [
            "Você é maior de idade!\n",
            "Você pode entrar!\n"
          ]
        }
      ]
    },
    {
      "cell_type": "code",
      "source": [
        "contador = 0\n",
        "\n",
        "while contador <= 5:\n",
        "    print(f\"Contagem: {contador}\")\n",
        "    contador = contador + 1\n",
        "\n",
        "print(\"Fim da contagem.\")"
      ],
      "metadata": {
        "colab": {
          "base_uri": "https://localhost:8080/"
        },
        "id": "ionNaUDkxajr",
        "outputId": "f8eec979-6f97-458e-8329-201ecd988c59"
      },
      "execution_count": null,
      "outputs": [
        {
          "output_type": "stream",
          "name": "stdout",
          "text": [
            "Contagem: 0\n",
            "Contagem: 1\n",
            "Contagem: 2\n",
            "Contagem: 3\n",
            "Contagem: 4\n",
            "Contagem: 5\n",
            "Fim da contagem.\n"
          ]
        }
      ]
    },
    {
      "cell_type": "code",
      "source": [
        "modelos = [\"2.0 flash\", \"2.5 flash\", \"2.5 pro\"]"
      ],
      "metadata": {
        "id": "LuL4w6oWzUAF"
      },
      "execution_count": null,
      "outputs": []
    },
    {
      "cell_type": "code",
      "source": [
        "print (modelos)"
      ],
      "metadata": {
        "colab": {
          "base_uri": "https://localhost:8080/"
        },
        "id": "-5BEhNzCz5Vz",
        "outputId": "2d9c5ab0-5e96-4833-d647-73d2d09a4c9f"
      },
      "execution_count": null,
      "outputs": [
        {
          "output_type": "stream",
          "name": "stdout",
          "text": [
            "['2.0 flash', '2.5 flash', '2.5 pro']\n"
          ]
        }
      ]
    },
    {
      "cell_type": "code",
      "source": [
        "for modelo in modelos:\n",
        "    print(modelo)"
      ],
      "metadata": {
        "colab": {
          "base_uri": "https://localhost:8080/"
        },
        "id": "s79vJc-Pz8-O",
        "outputId": "dd402799-12c3-4252-a220-8147c5e063e1"
      },
      "execution_count": null,
      "outputs": [
        {
          "output_type": "stream",
          "name": "stdout",
          "text": [
            "2.0 flash\n",
            "2.5 flash\n",
            "2.5 pro\n"
          ]
        }
      ]
    }
  ]
}