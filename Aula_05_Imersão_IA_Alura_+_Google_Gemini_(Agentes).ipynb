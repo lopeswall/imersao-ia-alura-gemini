{
  "nbformat": 4,
  "nbformat_minor": 0,
  "metadata": {
    "colab": {
      "provenance": []
    },
    "kernelspec": {
      "name": "python3",
      "display_name": "Python 3"
    },
    "language_info": {
      "name": "python"
    }
  },
  "cells": [
    {
      "cell_type": "code",
      "source": [
        "%pip -q install google-genai"
      ],
      "metadata": {
        "id": "UCCbECexLk_h"
      },
      "execution_count": null,
      "outputs": []
    },
    {
      "cell_type": "code",
      "source": [
        "# Configura a API Key do Google Gemini\n",
        "\n",
        "import os\n",
        "from google.colab import userdata\n",
        "\n",
        "os.environ[\"GOOGLE_API_KEY\"] = userdata.get('GOOGLE_API_KEY')"
      ],
      "metadata": {
        "id": "NfCqHo1tLk8P"
      },
      "execution_count": null,
      "outputs": []
    },
    {
      "cell_type": "code",
      "source": [
        "# Configura o cliente da SDK do Gemini\n",
        "\n",
        "from google import genai\n",
        "\n",
        "client = genai.Client()\n",
        "\n",
        "MODEL_ID = \"gemini-2.0-flash\""
      ],
      "metadata": {
        "id": "bV4w0H5TLk5g"
      },
      "execution_count": null,
      "outputs": []
    },
    {
      "cell_type": "code",
      "source": [
        "# Pergunta ao Gemini uma informação mais recente que seu conhecimento\n",
        "\n",
        "from IPython.display import HTML, Markdown\n",
        "\n",
        "# Perguntar pro modelo quando é a próxima imersão de IA ###############################################\n",
        "resposta = client.models.generate_content(\n",
        "    model=MODEL_ID,\n",
        "    contents='Quando é a próxima Imesrão IA com Google Gemini da Alura?'\n",
        ")\n",
        "\n",
        "# Exibe a resposta na tela\n",
        "display(Markdown(f\"Resposta:\\n {resposta.text}\"))"
      ],
      "metadata": {
        "id": "HwVP7Xi34Zuw",
        "colab": {
          "base_uri": "https://localhost:8080/",
          "height": 163
        },
        "outputId": "a6bb7821-107f-40b5-986f-bdab4a3d2061"
      },
      "execution_count": null,
      "outputs": [
        {
          "output_type": "display_data",
          "data": {
            "text/plain": [
              "<IPython.core.display.Markdown object>"
            ],
            "text/markdown": "Resposta:\n A Alura não tem um evento específico chamado \"Imersão IA com Google Gemini\". No entanto, a Alura oferece diversos cursos e formações em Inteligência Artificial, incluindo alguns que exploram o Google Gemini e outras ferramentas do Google Cloud.\n\nPara saber quando haverá um curso ou formação com foco em IA e Gemini, sugiro:\n\n*   **Verificar o catálogo da Alura:** Acesse o site da Alura ([https://www.alura.com.br/](https://www.alura.com.br/)) e procure por cursos ou formações nas áreas de Inteligência Artificial, Machine Learning, Google Cloud e Google Gemini.\n*   **Acompanhar as redes sociais da Alura:** A Alura costuma divulgar seus novos cursos e eventos em suas redes sociais (LinkedIn, Instagram, etc.).\n*   **Assinar a newsletter da Alura:** Ao se cadastrar na newsletter da Alura, você receberá informações sobre lançamentos de cursos e eventos."
          },
          "metadata": {}
        }
      ]
    },
    {
      "cell_type": "code",
      "source": [
        "# Pergunta ao Gemini uma informação utilizando a busca do Google como contexto\n",
        "\n",
        "response = client.models.generate_content(\n",
        "    model=MODEL_ID,\n",
        "    contents='Quando é a próxima Imersão IA com Google Gemini da Alura?',\n",
        "    config={\"tools\": [{\"google_search\": {}}]}\n",
        ")\n",
        "\n",
        "# Exibe a resposta na tela\n",
        "display(Markdown(f\"Resposta:\\n {response.text}\"))"
      ],
      "metadata": {
        "id": "yXaZd7iZ4ftw",
        "colab": {
          "base_uri": "https://localhost:8080/",
          "height": 98
        },
        "outputId": "ee977488-841d-4de1-e4b6-6d1d35b953c0"
      },
      "execution_count": null,
      "outputs": [
        {
          "output_type": "display_data",
          "data": {
            "text/plain": [
              "<IPython.core.display.Markdown object>"
            ],
            "text/markdown": "Resposta:\n A próxima Imersão IA com Google Gemini da Alura acontecerá entre os dias 12 e 16 de maio de 2025. As inscrições podem ser feitas até o dia 11 de maio. A imersão é um curso online e gratuito para quem deseja aprender a usar a inteligência artificial do Google Gemini na prática, mesmo sem conhecimento prévio. Durante as aulas, você vai aprender a criar prompts, automatizar tarefas e desenvolver sistemas de agentes autônomos. Ao final do curso, você receberá um certificado Alura + Google.\n"
          },
          "metadata": {}
        }
      ]
    },
    {
      "cell_type": "code",
      "source": [
        "# Exibe a busca\n",
        "print(f\"Busca realizada: {response.candidates[0].grounding_metadata.web_search_queries}\")\n",
        "# Exibe as URLs nas quais ele se baseou\n",
        "print(f\"Páginas utilizadas na resposta: {', '.join([site.web.title for site in response.candidates[0].grounding_metadata.grounding_chunks])}\")\n",
        "print()\n",
        "display(HTML(response.candidates[0].grounding_metadata.search_entry_point.rendered_content))"
      ],
      "metadata": {
        "id": "xHSNlTd84heJ",
        "colab": {
          "base_uri": "https://localhost:8080/",
          "height": 117
        },
        "outputId": "81f9a19a-9df6-4558-f7d3-02ff88f89f05"
      },
      "execution_count": null,
      "outputs": [
        {
          "output_type": "stream",
          "name": "stdout",
          "text": [
            "Busca realizada: ['Alura Imersão IA com Google Gemini']\n",
            "Páginas utilizadas na resposta: alura.com.br, tecmundo.com.br\n",
            "\n"
          ]
        },
        {
          "output_type": "display_data",
          "data": {
            "text/plain": [
              "<IPython.core.display.HTML object>"
            ],
            "text/html": [
              "<style>\n",
              ".container {\n",
              "  align-items: center;\n",
              "  border-radius: 8px;\n",
              "  display: flex;\n",
              "  font-family: Google Sans, Roboto, sans-serif;\n",
              "  font-size: 14px;\n",
              "  line-height: 20px;\n",
              "  padding: 8px 12px;\n",
              "}\n",
              ".chip {\n",
              "  display: inline-block;\n",
              "  border: solid 1px;\n",
              "  border-radius: 16px;\n",
              "  min-width: 14px;\n",
              "  padding: 5px 16px;\n",
              "  text-align: center;\n",
              "  user-select: none;\n",
              "  margin: 0 8px;\n",
              "  -webkit-tap-highlight-color: transparent;\n",
              "}\n",
              ".carousel {\n",
              "  overflow: auto;\n",
              "  scrollbar-width: none;\n",
              "  white-space: nowrap;\n",
              "  margin-right: -12px;\n",
              "}\n",
              ".headline {\n",
              "  display: flex;\n",
              "  margin-right: 4px;\n",
              "}\n",
              ".gradient-container {\n",
              "  position: relative;\n",
              "}\n",
              ".gradient {\n",
              "  position: absolute;\n",
              "  transform: translate(3px, -9px);\n",
              "  height: 36px;\n",
              "  width: 9px;\n",
              "}\n",
              "@media (prefers-color-scheme: light) {\n",
              "  .container {\n",
              "    background-color: #fafafa;\n",
              "    box-shadow: 0 0 0 1px #0000000f;\n",
              "  }\n",
              "  .headline-label {\n",
              "    color: #1f1f1f;\n",
              "  }\n",
              "  .chip {\n",
              "    background-color: #ffffff;\n",
              "    border-color: #d2d2d2;\n",
              "    color: #5e5e5e;\n",
              "    text-decoration: none;\n",
              "  }\n",
              "  .chip:hover {\n",
              "    background-color: #f2f2f2;\n",
              "  }\n",
              "  .chip:focus {\n",
              "    background-color: #f2f2f2;\n",
              "  }\n",
              "  .chip:active {\n",
              "    background-color: #d8d8d8;\n",
              "    border-color: #b6b6b6;\n",
              "  }\n",
              "  .logo-dark {\n",
              "    display: none;\n",
              "  }\n",
              "  .gradient {\n",
              "    background: linear-gradient(90deg, #fafafa 15%, #fafafa00 100%);\n",
              "  }\n",
              "}\n",
              "@media (prefers-color-scheme: dark) {\n",
              "  .container {\n",
              "    background-color: #1f1f1f;\n",
              "    box-shadow: 0 0 0 1px #ffffff26;\n",
              "  }\n",
              "  .headline-label {\n",
              "    color: #fff;\n",
              "  }\n",
              "  .chip {\n",
              "    background-color: #2c2c2c;\n",
              "    border-color: #3c4043;\n",
              "    color: #fff;\n",
              "    text-decoration: none;\n",
              "  }\n",
              "  .chip:hover {\n",
              "    background-color: #353536;\n",
              "  }\n",
              "  .chip:focus {\n",
              "    background-color: #353536;\n",
              "  }\n",
              "  .chip:active {\n",
              "    background-color: #464849;\n",
              "    border-color: #53575b;\n",
              "  }\n",
              "  .logo-light {\n",
              "    display: none;\n",
              "  }\n",
              "  .gradient {\n",
              "    background: linear-gradient(90deg, #1f1f1f 15%, #1f1f1f00 100%);\n",
              "  }\n",
              "}\n",
              "</style>\n",
              "<div class=\"container\">\n",
              "  <div class=\"headline\">\n",
              "    <svg class=\"logo-light\" width=\"18\" height=\"18\" viewBox=\"9 9 35 35\" fill=\"none\" xmlns=\"http://www.w3.org/2000/svg\">\n",
              "      <path fill-rule=\"evenodd\" clip-rule=\"evenodd\" d=\"M42.8622 27.0064C42.8622 25.7839 42.7525 24.6084 42.5487 23.4799H26.3109V30.1568H35.5897C35.1821 32.3041 33.9596 34.1222 32.1258 35.3448V39.6864H37.7213C40.9814 36.677 42.8622 32.2571 42.8622 27.0064V27.0064Z\" fill=\"#4285F4\"/>\n",
              "      <path fill-rule=\"evenodd\" clip-rule=\"evenodd\" d=\"M26.3109 43.8555C30.9659 43.8555 34.8687 42.3195 37.7213 39.6863L32.1258 35.3447C30.5898 36.3792 28.6306 37.0061 26.3109 37.0061C21.8282 37.0061 18.0195 33.9811 16.6559 29.906H10.9194V34.3573C13.7563 39.9841 19.5712 43.8555 26.3109 43.8555V43.8555Z\" fill=\"#34A853\"/>\n",
              "      <path fill-rule=\"evenodd\" clip-rule=\"evenodd\" d=\"M16.6559 29.8904C16.3111 28.8559 16.1074 27.7588 16.1074 26.6146C16.1074 25.4704 16.3111 24.3733 16.6559 23.3388V18.8875H10.9194C9.74388 21.2072 9.06992 23.8247 9.06992 26.6146C9.06992 29.4045 9.74388 32.022 10.9194 34.3417L15.3864 30.8621L16.6559 29.8904V29.8904Z\" fill=\"#FBBC05\"/>\n",
              "      <path fill-rule=\"evenodd\" clip-rule=\"evenodd\" d=\"M26.3109 16.2386C28.85 16.2386 31.107 17.1164 32.9095 18.8091L37.8466 13.8719C34.853 11.082 30.9659 9.3736 26.3109 9.3736C19.5712 9.3736 13.7563 13.245 10.9194 18.8875L16.6559 23.3388C18.0195 19.2636 21.8282 16.2386 26.3109 16.2386V16.2386Z\" fill=\"#EA4335\"/>\n",
              "    </svg>\n",
              "    <svg class=\"logo-dark\" width=\"18\" height=\"18\" viewBox=\"0 0 48 48\" xmlns=\"http://www.w3.org/2000/svg\">\n",
              "      <circle cx=\"24\" cy=\"23\" fill=\"#FFF\" r=\"22\"/>\n",
              "      <path d=\"M33.76 34.26c2.75-2.56 4.49-6.37 4.49-11.26 0-.89-.08-1.84-.29-3H24.01v5.99h8.03c-.4 2.02-1.5 3.56-3.07 4.56v.75l3.91 2.97h.88z\" fill=\"#4285F4\"/>\n",
              "      <path d=\"M15.58 25.77A8.845 8.845 0 0 0 24 31.86c1.92 0 3.62-.46 4.97-1.31l4.79 3.71C31.14 36.7 27.65 38 24 38c-5.93 0-11.01-3.4-13.45-8.36l.17-1.01 4.06-2.85h.8z\" fill=\"#34A853\"/>\n",
              "      <path d=\"M15.59 20.21a8.864 8.864 0 0 0 0 5.58l-5.03 3.86c-.98-2-1.53-4.25-1.53-6.64 0-2.39.55-4.64 1.53-6.64l1-.22 3.81 2.98.22 1.08z\" fill=\"#FBBC05\"/>\n",
              "      <path d=\"M24 14.14c2.11 0 4.02.75 5.52 1.98l4.36-4.36C31.22 9.43 27.81 8 24 8c-5.93 0-11.01 3.4-13.45 8.36l5.03 3.85A8.86 8.86 0 0 1 24 14.14z\" fill=\"#EA4335\"/>\n",
              "    </svg>\n",
              "    <div class=\"gradient-container\"><div class=\"gradient\"></div></div>\n",
              "  </div>\n",
              "  <div class=\"carousel\">\n",
              "    <a class=\"chip\" href=\"https://vertexaisearch.cloud.google.com/grounding-api-redirect/AbF9wXG45hqBMxKV0A0wf-tH-gyoXxxG_90LPtG_OuKu4hmpCOXIDIZagu6xvLReLfADQrOOf0L8hm3y8rCwl0jWKW42fbyFvYterXLLkkfyDpbrIEz5kQAOWfPwjoqlexZsD3cYp3PkFbTmxyZ8yppFFb8S4Vw3tFBRmcaDYYl0cpkZmrOmTZakwru1WkwkH6lSjrZlIBic2J2RhTgBlYQ26EIYAjKadu71kd6czw==\">Alura Imersão IA com Google Gemini</a>\n",
              "  </div>\n",
              "</div>\n"
            ]
          },
          "metadata": {}
        }
      ]
    },
    {
      "cell_type": "code",
      "source": [
        "# Instalar Framework ADK de agentes do Google ################################################\n",
        "!pip install -q google-adk"
      ],
      "metadata": {
        "id": "hvZ3UnPI4jhJ",
        "colab": {
          "base_uri": "https://localhost:8080/"
        },
        "outputId": "3082efca-135a-45fd-cb48-0ae914b92108"
      },
      "execution_count": null,
      "outputs": [
        {
          "output_type": "stream",
          "name": "stdout",
          "text": [
            "\u001b[?25l   \u001b[90m━━━━━━━━━━━━━━━━━━━━━━━━━━━━━━━━━━━━━━━━\u001b[0m \u001b[32m0.0/1.2 MB\u001b[0m \u001b[31m?\u001b[0m eta \u001b[36m-:--:--\u001b[0m\r\u001b[2K   \u001b[90m━━━━━━━━━━━━━━━━━━━━━━━━━━━━━━━━━━━━━━━━\u001b[0m \u001b[32m1.2/1.2 MB\u001b[0m \u001b[31m40.1 MB/s\u001b[0m eta \u001b[36m0:00:00\u001b[0m\n",
            "\u001b[?25h\u001b[?25l   \u001b[90m━━━━━━━━━━━━━━━━━━━━━━━━━━━━━━━━━━━━━━━━\u001b[0m \u001b[32m0.0/232.1 kB\u001b[0m \u001b[31m?\u001b[0m eta \u001b[36m-:--:--\u001b[0m\r\u001b[2K   \u001b[90m━━━━━━━━━━━━━━━━━━━━━━━━━━━━━━━━━━━━━━━━\u001b[0m \u001b[32m232.1/232.1 kB\u001b[0m \u001b[31m12.6 MB/s\u001b[0m eta \u001b[36m0:00:00\u001b[0m\n",
            "\u001b[?25h\u001b[?25l   \u001b[90m━━━━━━━━━━━━━━━━━━━━━━━━━━━━━━━━━━━━━━━━\u001b[0m \u001b[32m0.0/95.2 kB\u001b[0m \u001b[31m?\u001b[0m eta \u001b[36m-:--:--\u001b[0m\r\u001b[2K   \u001b[90m━━━━━━━━━━━━━━━━━━━━━━━━━━━━━━━━━━━━━━━━\u001b[0m \u001b[32m95.2/95.2 kB\u001b[0m \u001b[31m6.6 MB/s\u001b[0m eta \u001b[36m0:00:00\u001b[0m\n",
            "\u001b[?25h\u001b[?25l   \u001b[90m━━━━━━━━━━━━━━━━━━━━━━━━━━━━━━━━━━━━━━━━\u001b[0m \u001b[32m0.0/217.1 kB\u001b[0m \u001b[31m?\u001b[0m eta \u001b[36m-:--:--\u001b[0m\r\u001b[2K   \u001b[90m━━━━━━━━━━━━━━━━━━━━━━━━━━━━━━━━━━━━━━━━\u001b[0m \u001b[32m217.1/217.1 kB\u001b[0m \u001b[31m11.3 MB/s\u001b[0m eta \u001b[36m0:00:00\u001b[0m\n",
            "\u001b[?25h\u001b[?25l   \u001b[90m━━━━━━━━━━━━━━━━━━━━━━━━━━━━━━━━━━━━━━━━\u001b[0m \u001b[32m0.0/334.1 kB\u001b[0m \u001b[31m?\u001b[0m eta \u001b[36m-:--:--\u001b[0m\r\u001b[2K   \u001b[90m━━━━━━━━━━━━━━━━━━━━━━━━━━━━━━━━━━━━━━━━\u001b[0m \u001b[32m334.1/334.1 kB\u001b[0m \u001b[31m16.3 MB/s\u001b[0m eta \u001b[36m0:00:00\u001b[0m\n",
            "\u001b[2K   \u001b[90m━━━━━━━━━━━━━━━━━━━━━━━━━━━━━━━━━━━━━━━━\u001b[0m \u001b[32m125.1/125.1 kB\u001b[0m \u001b[31m9.0 MB/s\u001b[0m eta \u001b[36m0:00:00\u001b[0m\n",
            "\u001b[2K   \u001b[90m━━━━━━━━━━━━━━━━━━━━━━━━━━━━━━━━━━━━━━━━\u001b[0m \u001b[32m65.8/65.8 kB\u001b[0m \u001b[31m4.5 MB/s\u001b[0m eta \u001b[36m0:00:00\u001b[0m\n",
            "\u001b[2K   \u001b[90m━━━━━━━━━━━━━━━━━━━━━━━━━━━━━━━━━━━━━━━━\u001b[0m \u001b[32m118.9/118.9 kB\u001b[0m \u001b[31m8.9 MB/s\u001b[0m eta \u001b[36m0:00:00\u001b[0m\n",
            "\u001b[2K   \u001b[90m━━━━━━━━━━━━━━━━━━━━━━━━━━━━━━━━━━━━━━━━\u001b[0m \u001b[32m194.9/194.9 kB\u001b[0m \u001b[31m12.7 MB/s\u001b[0m eta \u001b[36m0:00:00\u001b[0m\n",
            "\u001b[2K   \u001b[90m━━━━━━━━━━━━━━━━━━━━━━━━━━━━━━━━━━━━━━━━\u001b[0m \u001b[32m62.5/62.5 kB\u001b[0m \u001b[31m4.4 MB/s\u001b[0m eta \u001b[36m0:00:00\u001b[0m\n",
            "\u001b[2K   \u001b[90m━━━━━━━━━━━━━━━━━━━━━━━━━━━━━━━━━━━━━━━━\u001b[0m \u001b[32m103.3/103.3 kB\u001b[0m \u001b[31m7.1 MB/s\u001b[0m eta \u001b[36m0:00:00\u001b[0m\n",
            "\u001b[2K   \u001b[90m━━━━━━━━━━━━━━━━━━━━━━━━━━━━━━━━━━━━━━━━\u001b[0m \u001b[32m44.4/44.4 kB\u001b[0m \u001b[31m3.1 MB/s\u001b[0m eta \u001b[36m0:00:00\u001b[0m\n",
            "\u001b[2K   \u001b[90m━━━━━━━━━━━━━━━━━━━━━━━━━━━━━━━━━━━━━━━━\u001b[0m \u001b[32m72.0/72.0 kB\u001b[0m \u001b[31m5.0 MB/s\u001b[0m eta \u001b[36m0:00:00\u001b[0m\n",
            "\u001b[?25h"
          ]
        }
      ]
    },
    {
      "cell_type": "code",
      "execution_count": null,
      "metadata": {
        "id": "aePV2bdfDeoW"
      },
      "outputs": [],
      "source": [
        "from google.adk.agents import Agent\n",
        "from google.adk.runners import Runner\n",
        "from google.adk.sessions import InMemorySessionService\n",
        "from google.adk.tools import google_search\n",
        "from google.genai import types  # Para criar conteúdos (Content e Part)\n",
        "from datetime import date\n",
        "import textwrap # Para formatar melhor a saída de texto\n",
        "from IPython.display import display, Markdown # Para exibir texto formatado no Colab\n",
        "import requests # Para fazer requisições HTTP\n",
        "import warnings\n",
        "\n",
        "warnings.filterwarnings(\"ignore\")"
      ]
    },
    {
      "cell_type": "code",
      "source": [
        "# Função auxiliar que envia uma mensagem para um agente via Runner e retorna a resposta final\n",
        "def call_agent(agent: Agent, message_text: str) -> str:\n",
        "    # Cria um serviço de sessão em memória\n",
        "    session_service = InMemorySessionService()\n",
        "    # Cria uma nova sessão (você pode personalizar os IDs conforme necessário)\n",
        "    session = session_service.create_session(app_name=agent.name, user_id=\"user1\", session_id=\"session1\")\n",
        "    # Cria um Runner para o agente\n",
        "    runner = Runner(agent=agent, app_name=agent.name, session_service=session_service)\n",
        "    # Cria o conteúdo da mensagem de entrada\n",
        "    content = types.Content(role=\"user\", parts=[types.Part(text=message_text)])\n",
        "\n",
        "    final_response = \"\"\n",
        "    # Itera assincronamente pelos eventos retornados durante a execução do agente\n",
        "    for event in runner.run(user_id=\"user1\", session_id=\"session1\", new_message=content):\n",
        "        if event.is_final_response():\n",
        "          for part in event.content.parts:\n",
        "            if part.text is not None:\n",
        "              final_response += part.text\n",
        "              final_response += \"\\n\"\n",
        "    return final_response"
      ],
      "metadata": {
        "id": "_xP4lWhsS5ko"
      },
      "execution_count": null,
      "outputs": []
    },
    {
      "cell_type": "code",
      "source": [
        "# Função auxiliar para exibir texto formatado em Markdown no Colab\n",
        "def to_markdown(text):\n",
        "  text = text.replace('•', '  *')\n",
        "  return Markdown(textwrap.indent(text, '> ', predicate=lambda _: True))"
      ],
      "metadata": {
        "id": "8dosiodaxfFR"
      },
      "execution_count": null,
      "outputs": []
    },
    {
      "cell_type": "code",
      "source": [
        "##########################################\n",
        "# --- Agente 1: Buscador de Notícias --- #\n",
        "##########################################\n",
        "def agente_buscador(topico, data_de_hoje):\n",
        "    buscador = Agent(\n",
        "        name=\"agente_buscador\",\n",
        "        model=\"gemini-2.0-flash\",\n",
        "        instruction=\"\"\"\n",
        "        Você é um assistente de pesquisa. A sua taref é usar a ferramenta de busca do google (google_search) para recuperar as últimas notícias de lançamentos muito relevantes sobre o tópico abaixo.\n",
        "        Foque no máximo em 5 lançamentos relevantes, com base na quantidade e entusiasmo das notícias sobre ele.\n",
        "        Se um tema tiver poucas notícias ou reações entusiasmadas, é possível que ele não seja tão relevante assim e pode ser substituídos por outros mais relevantes.\n",
        "        Esses lançamentos relevantes devem ser atuais, de no máximo um mês antes da data de hoje.\n",
        "        \"\"\",\n",
        "        description=\"Agente que busca informações no Google\",\n",
        "        tools=[google_search]\n",
        "\n",
        "    )\n",
        "\n",
        "    entrada_do_agente_buscador = f\"Tópico: {topico}\\nData de hoje: {data_de_hoje}\"\n",
        "    lancamentos = call_agent(buscador, entrada_do_agente_buscador)\n",
        "    return lancamentos"
      ],
      "metadata": {
        "id": "o8bqIfi_DyH8"
      },
      "execution_count": null,
      "outputs": []
    },
    {
      "cell_type": "code",
      "source": [
        "################################################\n",
        "# --- Agente 2: Planejador de posts --- #\n",
        "################################################\n",
        "def agente_planejador(topico, lancamentos_buscados):\n",
        "    planejador = Agent(\n",
        "        name=\"agente_planejador\",\n",
        "        model=\"gemini-2.0-flash\",\n",
        "        # Inserir as instruções do Agente Planejador #################################################\n",
        "        instruction=\"\"\"\n",
        "        Você é um planejador de conteúdo especialista em criação de conteúdo, marketing e redes sociais. Com base na lista de lançamentos mais recentes e elevantes do buscador, você deve:\n",
        "        usar a ferramenta de busca do Google (google_search) para ciriar um plano sobre quais os pontos mais relevantes que poderiamos abirdar em um post ou vídeo sobre cada um deles. Você pode usar o (google_search) para encontrar mais\n",
        "        informações sobre os temas e aprofundar no tema.\n",
        "        Ao final, você irá escolher o tema mais relevante entre eles com base nas suas pesquisas e retornar esse tema, seus pontos mais relevantes, e um plano com os assuntos a serem abordados no post que será escrito posteriormente.\n",
        "        \"\"\",\n",
        "        description=\"Agente que planeja posts\",\n",
        "        tools=[google_search]\n",
        "    )\n",
        "\n",
        "    entrada_do_agente_planejador = f\"Tópico:{topico}\\nLançamentos buscados: {lancamentos_buscados}\"\n",
        "    # Executa o agente\n",
        "    plano_do_post = call_agent(planejador, entrada_do_agente_planejador)\n",
        "    return plano_do_post"
      ],
      "metadata": {
        "id": "y3VO1uo5_ghO"
      },
      "execution_count": null,
      "outputs": []
    },
    {
      "cell_type": "code",
      "source": [
        "######################################\n",
        "# --- Agente 3: Redator do Post --- #\n",
        "######################################\n",
        "def agente_redator(topico, plano_de_post):\n",
        "    redator = Agent(\n",
        "        name=\"agente_redator\",\n",
        "        model=\"gemini-2.0-flash\",\n",
        "        instruction=\"\"\"\n",
        "            Você é um Redator Criativo especializado em criar posts e vídeos virais para redes sociais.\n",
        "            Você escreve para a empresa Alura, a maior escola online de tecnologia do Brasil.\n",
        "            Utilize o tema fornecido no plano de post e os pontos mais relevantes fornecidos e, com base nisso,\n",
        "            escreva um rascunho de texto para um reels do Instagram sobre o tema indicado.\n",
        "            O texto do reels deve ser engajador, informativo, com linguagem simples e incluir 2 a 4 hashtags no final.\n",
        "            \"\"\",\n",
        "        description=\"Agente redator de posts engajadores para Instagram\"\n",
        "    )\n",
        "    entrada_do_agente_redator = f\"Tópico: {topico}\\nPlano de post: {plano_de_post}\"\n",
        "    # Executa o agente\n",
        "    rascunho = call_agent(redator, entrada_do_agente_redator)\n",
        "    return rascunho"
      ],
      "metadata": {
        "id": "uOqlg2TRLVh1"
      },
      "execution_count": null,
      "outputs": []
    },
    {
      "cell_type": "code",
      "source": [
        "##########################################\n",
        "# --- Agente 4: Revisor de Qualidade --- #\n",
        "##########################################\n",
        "def agente_revisor(topico, rascunho_gerado):\n",
        "    revisor = Agent(\n",
        "        name=\"agente_revisor\",\n",
        "        model=\"gemini-2.0-flash\",\n",
        "        instruction=\"\"\"\n",
        "            Você é um Editor e Revisor de Conteúdo meticuloso, especializado em posts para redes sociais, com foco no Instagram.\n",
        "            Por ter um público jovem, entre 18 e 30 anos, use um tom de escrita adequado.\n",
        "            Revise o rascunho de post de Instagram abaixo sobre o tópico indicado, verificando clareza, concisão, correção e tom.\n",
        "            Se o rascunho estiver bom, responda apenas 'O rascunho está ótimo e pronto para publicar!'.\n",
        "            Caso haja problemas, aponte-os e sugira melhorias.\n",
        "            \"\"\",\n",
        "        description=\"Agente revisor de post para redes sociais.\"\n",
        "    )\n",
        "    entrada_do_agente_revisor = f\"Tópico: {topico}\\nRascunho: {rascunho_gerado}\"\n",
        "    # Executa o agente\n",
        "    texto_revisado = call_agent(revisor, entrada_do_agente_revisor)\n",
        "    return texto_revisado"
      ],
      "metadata": {
        "id": "_aTb1SdkLeT6"
      },
      "execution_count": null,
      "outputs": []
    },
    {
      "cell_type": "code",
      "source": [
        "data_de_hoje = date.today().strftime(\"%d/%m/%Y\")\n",
        "\n",
        "print(\"🚀 Iniciando o Sistema de Criação de Posts para Instagram com 4 Agentes 🚀\")\n",
        "\n",
        "# --- Obter o Tópico do Usuário ---\n",
        "topico = input(\"❓ Por favor, digite o TÓPICO sobre o qual você quer criar o post de tendências: \")\n",
        "\n",
        "# Inserir lógica do sistema de agentes ################################################\n",
        "if not topico:\n",
        "    print(\"você esqueceu de digitar o tópico!\")\n",
        "else:\n",
        "    print(f\"Maravilha! Vamos então criar o post sobre novidades em {topico}\")\n",
        "\n",
        "    lancamentos_buscados = agente_buscador(topico, data_de_hoje)\n",
        "    print(\"\\n--- Resultados do Agente 1 (Buscador) ---\\n\")\n",
        "    display(to_markdown(lancamentos_buscados))\n",
        "    print(\"------------------------------------------------------------------------------------------------------------------------\")\n",
        "\n",
        "    plano_de_post = agente_planejador(topico, lancamentos_buscados)\n",
        "    print(\"\\n--- Resultados do Agente 2 (Planejador) ---\\n\")\n",
        "    display(to_markdown(plano_de_post))\n",
        "    print(\"------------------------------------------------------------------------------------------------------------------------\")\n",
        "\n",
        "    rascunho_de_post = agente_redator(topico, plano_de_post)\n",
        "    print(\"\\n--- Resultados do Agente 3 (Redator) ---\\n\")\n",
        "    display(to_markdown(rascunho_de_post))\n",
        "    print(\"------------------------------------------------------------------------------------------------------------------------\")\n",
        "\n",
        "    post_final = agente_revisor(topico, rascunho_de_post)\n",
        "    print(\"\\n--- Resultados do Agente 4 (Revisor) ---\\n\")\n",
        "    display(to_markdown(post_final))\n",
        "    print(\"------------------------------------------------------------------------------------------------------------------------\")"
      ],
      "metadata": {
        "id": "630ummxz4myx",
        "colab": {
          "base_uri": "https://localhost:8080/",
          "height": 1000
        },
        "outputId": "02abe446-a3f5-48eb-a83d-60bee2a3b7ca"
      },
      "execution_count": 36,
      "outputs": [
        {
          "output_type": "stream",
          "name": "stdout",
          "text": [
            "🚀 Iniciando o Sistema de Criação de Posts para Instagram com 4 Agentes 🚀\n",
            "❓ Por favor, digite o TÓPICO sobre o qual você quer criar o post de tendências: Agentes de IA\n",
            "Maravilha! Vamos então criar o post sobre novidades em Agentes de IA\n",
            "\n",
            "--- Resultados do Agente 1 (Buscador) ---\n",
            "\n"
          ]
        },
        {
          "output_type": "display_data",
          "data": {
            "text/plain": [
              "<IPython.core.display.Markdown object>"
            ],
            "text/markdown": "> Para encontrar os lançamentos mais relevantes e recentes sobre agentes de IA, vou usar o Google para pesquisar notícias e artigos dos últimos meses. Procurarei por lançamentos que geraram bastante atenção e cobertura da mídia.\n> \n> \n> Com base nas notícias e artigos recentes, aqui estão alguns dos lançamentos e tendências mais relevantes sobre agentes de IA até maio de 2025:\n> \n> 1.  **Adoção em Empresas:** A adoção de agentes de IA está se acelerando em empresas de diversos setores, com o objetivo de simplificar tarefas, otimizar recursos e transformar a gestão de processos. Empresas como IBM, Anthropic, Amazon, Google e OpenAI estão lançando atualizações e ferramentas para integrar agentes de IA em operações corporativas.\n> 2.  **Plataformas e Ferramentas de Desenvolvimento:** Há um crescente interesse em plataformas que facilitam a criação, personalização e implementação de agentes de IA. Algumas das principais ferramentas incluem Botpress, LangChain, LlamaIndex, CrewAI, Dify e Synthflow. IBM watsonx Orchestrate também se destaca, oferecendo soluções para integrar e customizar agentes, além de um Agent Catalog com mais de 150 agentes e ferramentas.\n> 3.  **Agentes de IA em Criptomoedas e Blockchain:** Agentes de IA estão encontrando aplicações inovadoras na tecnologia blockchain, automatizando a execução de contratos inteligentes e otimizando a gestão de carteiras de criptomoedas. Exemplos incluem AIXBT, AI16z, Luna, Freysa IA e Dasha.\n> 4.  **Tendências e Previsões:** Agentes de IA são considerados uma das principais tendências tecnológicas para 2025, com expectativas de que se tornem parte crucial da rotina de trabalho e do planejamento estratégico das empresas. A Gartner prevê que, até 2028, 33% dos aplicativos de software corporativo incluirão Agentic AI, permitindo que 15% das decisões de trabalho do dia a dia sejam tomadas por agentes.\n> 5.  **Avanços em Modelos de IA:** Empresas como OpenAI estão lançando novos modelos de IA, como o GPT-4.1 e GPT-4.1 Mini, para melhorar o desempenho e a eficiência dos agentes. A Microsoft também está avançando com soluções como o Copilot Studio, que permite a criação de modelos capazes de automatizar tarefas com o suporte de IA. Além disso, há uma crescente ênfase em modelos de linguagem menores (SLMs) para tarefas específicas, devido ao seu custo reduzido e maior sustentabilidade.\n> \n> Em resumo, os agentes de IA estão se tornando mais acessíveis, eficientes e integrados em diversas áreas, desde automação de negócios até aplicações em blockchain e criptomoedas. As empresas estão cada vez mais investindo em agentes de IA para aumentar a produtividade, otimizar processos e transformar a experiência do usuário.\n> \n"
          },
          "metadata": {}
        },
        {
          "output_type": "stream",
          "name": "stdout",
          "text": [
            "------------------------------------------------------------------------------------------------------------------------\n",
            "\n",
            "--- Resultados do Agente 2 (Planejador) ---\n",
            "\n"
          ]
        },
        {
          "output_type": "display_data",
          "data": {
            "text/plain": [
              "<IPython.core.display.Markdown object>"
            ],
            "text/markdown": "> Com base nos lançamentos e tendências recentes sobre agentes de IA, aqui está um plano detalhado para criar um post ou vídeo informativo e relevante:\n> \n> **Tema Escolhido:** Adoção de Agentes de IA em Empresas: Simplificação de Tarefas e Otimização de Recursos\n> \n> **Por que este tema?** Este tema é amplo e permite abordar várias facetas dos agentes de IA, desde sua aplicação prática em diferentes setores até as ferramentas e plataformas que facilitam sua adoção. Além disso, o interesse crescente das empresas em otimizar processos e aumentar a produtividade torna este tema altamente relevante e atraente para um público diversificado.\n> \n> **Pontos Relevantes a serem Abordados:**\n> \n> *   **O que são Agentes de IA e como Funcionam?**\n>     *   Definir o conceito de agentes de IA de forma clara e acessível.\n>     *   Explicar como os agentes de IA utilizam modelos de linguagem e algoritmos para executar tarefas.\n> *   **Benefícios da Adoção de Agentes de IA em Empresas:**\n>     *   Aumento da produtividade e eficiência operacional.\n>     *   Redução de custos através da automação de tarefas repetitivas.\n>     *   Melhoria na tomada de decisões com insights baseados em dados.\n>     *   Otimização da gestão de recursos e processos internos.\n> *   **Exemplos de Aplicações em Diferentes Setores:**\n>     *   **Setor Financeiro:** Automação de atendimento ao cliente, detecção de fraudes.\n>     *   **Setor de Saúde:** Auxílio no diagnóstico, gestão de prontuários eletrônicos.\n>     *   **Setor de Varejo:** Personalização da experiência do cliente, otimização de estoque.\n>     *   **Setor de Tecnologia:** Automação de testes de software, suporte técnico.\n> *   **Plataformas e Ferramentas para Desenvolvimento e Implementação:**\n>     *   **Botpress, LangChain, LlamaIndex, CrewAI, Dify e Synthflow:** Breve descrição e funcionalidades.\n>     *   **IBM watsonx Orchestrate:** Destaque para o Agent Catalog e soluções de customização.\n> *   **Desafios e Considerações na Implementação de Agentes de IA:**\n>     *   Questões de segurança e privacidade dos dados.\n>     *   Necessidade de treinamento e adaptação das equipes.\n>     *   Integração com sistemas legados e infraestrutura existente.\n> *   **Tendências Futuras e Previsões:**\n>     *   Expectativas de crescimento na adoção de agentes de IA.\n>     *   Impacto da Agentic AI nas decisões de trabalho.\n>     *   Evolução dos modelos de linguagem e suas aplicações.\n> \n> **Plano de Assuntos para o Post/Vídeo:**\n> \n> 1.  **Introdução:**\n>     *   Título chamativo: \"Agentes de IA nas Empresas: A Revolução da Produtividade\"\n>     *   Breve introdução sobre o que são agentes de IA e sua crescente importância no mundo empresarial.\n>     *   Apresentar a tese principal: \"Empresas estão adotando agentes de IA para simplificar tarefas, otimizar recursos e transformar a gestão de processos.\"\n> 2.  **O que são Agentes de IA?**\n>     *   Definição clara e concisa do conceito.\n>     *   Explicação básica de como funcionam (modelos de linguagem, algoritmos, etc.).\n> 3.  **Benefícios da Adoção:**\n>     *   Apresentar os principais benefícios de forma organizada (aumento da produtividade, redução de custos, etc.).\n>     *   Utilizar exemplos práticos para ilustrar cada benefício.\n> 4.  **Aplicações em Diferentes Setores:**\n>     *   Detalhar exemplos de uso em diferentes setores (financeiro, saúde, varejo, tecnologia).\n>     *   Mostrar como os agentes de IA estão resolvendo problemas específicos em cada setor.\n> 5.  **Ferramentas e Plataformas:**\n>     *   Apresentar as principais plataformas e ferramentas disponíveis no mercado.\n>     *   Destacar as funcionalidades e diferenciais de cada uma.\n> 6.  **Desafios e Considerações:**\n>     *   Discutir os desafios e considerações importantes na implementação de agentes de IA.\n>     *   Oferecer dicas e recomendações para superar esses desafios.\n> 7.  **Tendências Futuras:**\n>     *   Apresentar as tendências futuras e previsões para a adoção de agentes de IA.\n>     *   Discutir o impacto potencial na rotina de trabalho e no planejamento estratégico das empresas.\n> 8.  **Conclusão:**\n>     *   Reafirmar a importância dos agentes de IA para o futuro das empresas.\n>     *   Incentivar os espectadores/leitores a explorarem e implementarem agentes de IA em seus negócios.\n>     *   Call to action: \"Compartilhe este vídeo/artigo com seus colegas e deixe um comentário sobre como você pretende usar agentes de IA em sua empresa!\"\n> \n> Para enriquecer ainda mais o conteúdo, usarei o Google para encontrar estudos de caso e estatísticas recentes sobre a adoção de agentes de IA em empresas. Isso ajudará a dar credibilidade ao post/vídeo e a demonstrar o impacto real dessas tecnologias.\n> \n> \n> Com base nas pesquisas adicionais, o plano de conteúdo foi aprimorado com mais informações e exemplos concretos:\n> \n> **Tema Escolhido:** Adoção de Agentes de IA em Empresas: Simplificação de Tarefas e Otimização de Recursos\n> \n> **Pontos Relevantes a serem Abordados (Aprimorados):**\n> \n> *   **O que são Agentes de IA e como Funcionam?**\n>     *   Definir o conceito de agentes de IA como sistemas autônomos capazes de tomar decisões e agir para concluir tarefas.\n>     *   Explicar como utilizam aprendizado de máquina e processamento de linguagem natural (PNL) para entender, aprender e adaptar-se.\n> *   **Benefícios da Adoção de Agentes de IA em Empresas:**\n>     *   Aumento da produtividade e eficiência operacional.\n>     *   Redução de custos através da automação de tarefas repetitivas e diminuição de erros humanos.\n>     *   Melhoria na tomada de decisões com insights baseados em dados e análises preditivas.\n>     *   Otimização da gestão de recursos e processos internos.\n> *   **Exemplos de Aplicações em Diferentes Setores:**\n>     *   **Setor Financeiro:**\n>         *   Automação de atendimento ao cliente 24/7 via WhatsApp.\n>         *   Detecção de fraudes em tempo real e análise de risco.\n>         *   Análise preditiva de inadimplência e ofertas personalizadas de crédito.\n>         *   Gerenciamento de portfólio e negociação algorítmica.\n>     *   **Setor de Saúde:**\n>         *   Auxílio no diagnóstico por meio da análise de grandes conjuntos de dados biomédicos.\n>         *   Automação de tarefas rotineiras como agendamento de consultas e gestão de prontuários eletrônicos.\n>         *   Criação de planos de tratamento personalizados e análise preditiva da progressão de doenças.\n>     *   **Setor de Varejo:**\n>         *   Personalização da experiência do cliente com recomendações de produtos.\n>         *   Otimização de estoque e gestão de cadeia de suprimentos.\n>         *   Chatbots para atendimento ao cliente e suporte 24/7.\n>         *   Identificação de locais ideais para lojas e auxílio na escolha de roupas online.\n>     *   **Setor de Tecnologia:**\n>         *   Automação de testes de software.\n>         *   Suporte técnico.\n> *   **Plataformas e Ferramentas para Desenvolvimento e Implementação:**\n>     *   **Botpress, LangChain, LlamaIndex, CrewAI, Dify e Synthflow:** Breve descrição e funcionalidades.\n>     *   **IBM watsonx Orchestrate:** Destaque para o Agent Catalog e soluções de customização.\n> *   **Desafios e Considerações na Implementação de Agentes de IA:**\n>     *   Questões de segurança e privacidade dos dados.\n>     *   Necessidade de treinamento e adaptação das equipes.\n>     *   Integração com sistemas legados e infraestrutura existente.\n>     *   Risco de manipulação de pessoas e sistemas se não houver freios éticos.\n> *   **Tendências Futuras e Previsões:**\n>     *   Expectativas de crescimento na adoção de agentes de IA.\n>     *   Impacto da Agentic AI nas decisões de trabalho.\n>     *   Evolução dos modelos de linguagem e suas aplicações.\n> \n> **Plano de Assuntos para o Post/Vídeo (Aprimorado):**\n> \n> 1.  **Introdução:**\n>     *   Título chamativo: \"Agentes de IA nas Empresas: A Revolução da Produtividade\"\n>     *   Breve introdução sobre o que são agentes de IA e sua crescente importância no mundo empresarial.\n>     *   Apresentar a tese principal: \"Empresas estão adotando agentes de IA para simplificar tarefas, otimizar recursos e transformar a gestão de processos.\"\n> 2.  **O que são Agentes de IA?**\n>     *   Definição clara e concisa do conceito.\n>     *   Explicação básica de como funcionam (modelos de linguagem, algoritmos, aprendizado de máquina).\n> 3.  **Benefícios da Adoção:**\n>     *   Apresentar os principais benefícios de forma organizada (aumento da produtividade, redução de custos, etc.).\n>     *   Utilizar exemplos práticos e dados estatísticos para ilustrar cada benefício.\n> 4.  **Aplicações em Diferentes Setores:**\n>     *   Detalhar exemplos de uso em diferentes setores (financeiro, saúde, varejo, tecnologia).\n>     *   Mostrar como os agentes de IA estão resolvendo problemas específicos em cada setor.\n>     *   Exemplos:\n>         *   **Varejo:** Personalização da experiência de compra, otimização de estoque.\n>         *   **Saúde:** Auxílio no diagnóstico, gestão de agendamentos.\n>         *   **Financeiro:** Detecção de fraudes, atendimento ao cliente 24/7.\n> 5.  **Ferramentas e Plataformas:**\n>     *   Apresentar as principais plataformas e ferramentas disponíveis no mercado.\n>     *   Destacar as funcionalidades e diferenciais de cada uma.\n> 6.  **Desafios e Considerações:**\n>     *   Discutir os desafios e considerações importantes na implementação de agentes de IA.\n>     *   Oferecer dicas e recomendações para superar esses desafios.\n> 7.  **Tendências Futuras:**\n>     *   Apresentar as tendências futuras e previsões para a adoção de agentes de IA.\n>     *   Discutir o impacto potencial na rotina de trabalho e no planejamento estratégico das empresas.\n> 8.  **Conclusão:**\n>     *   Reafirmar a importância dos agentes de IA para o futuro das empresas.\n>     *   Incentivar os espectadores/leitores a explorarem e implementarem agentes de IA em seus negócios.\n>     *   Call to action: \"Compartilhe este vídeo/artigo com seus colegas e deixe um comentário sobre como você pretende usar agentes de IA em sua empresa!\"\n> \n> **Recursos Adicionais:**\n> \n> *   **Estudos de Caso:** Incluir estudos de caso de empresas que implementaram agentes de IA com sucesso (e.g., como a Genial Care usa IA para cuidar do transtorno do espectro autista).\n> *   **Estatísticas:** Apresentar estatísticas sobre o crescimento do mercado de agentes de IA e o ROI obtido pelas empresas.\n> *   **Citações:** Referenciar fontes confiáveis (e.g., Gartner, McKinsey, Deloitte) para dar credibilidade ao conteúdo.\n> \n> Este plano detalhado fornece uma base sólida para criar um post/vídeo informativo e envolvente sobre a adoção de agentes de IA em empresas.\n> \n"
          },
          "metadata": {}
        },
        {
          "output_type": "stream",
          "name": "stdout",
          "text": [
            "------------------------------------------------------------------------------------------------------------------------\n",
            "\n",
            "--- Resultados do Agente 3 (Redator) ---\n",
            "\n"
          ]
        },
        {
          "output_type": "display_data",
          "data": {
            "text/plain": [
              "<IPython.core.display.Markdown object>"
            ],
            "text/markdown": "> ## Rascunho de Reels Instagram: Agentes de IA nas Empresas\n> \n> **[Cena 1: Abertura dinâmica com a logo da Alura e gráficos de crescimento]**\n> \n> **Locutor(a):**  Se liga! A revolução da produtividade chegou e o nome dela é: Agentes de Inteligência Artificial! 🤯\n> \n> **[Cena 2: Animação simples explicando o que são Agentes de IA]**\n> \n> **Locutor(a):** Sabe aquelas tarefas repetitivas e demoradas? Esquece! Agentes de IA são como mini-robôs inteligentes que aprendem e automatizam tudo, desde atendimento ao cliente até análise de dados!\n> \n> **[Cena 3: Exemplos visuais de aplicações em diferentes setores (financeiro, saúde, varejo)]**\n> \n> **Locutor(a):**  E não para por aí! \n> *   No **varejo**, eles turbinam a experiência de compra.\n> *   Na **saúde**, agilizam diagnósticos. \n> *   No **financeiro**, combatem fraudes! \n> \n> **[Cena 4: Tela mostrando algumas plataformas/ferramentas (Botpress, LangChain, etc.)]**\n> \n> **Locutor(a):**  E a Alura te prepara para construir e usar essas ferramentas! 🚀\n> \n> **[Cena 5: Locutor(a) em frente à câmera, com um sorriso]**\n> \n> **Locutor(a):**  Quer saber como implementar essa tecnologia na sua empresa? A Alura te ensina tudo! Comece agora e não fique para trás!\n> \n> **[Cena 6: Encerramento com CTA e logo da Alura]**\n> \n> **Texto na tela:**  Compartilhe com a sua equipe e marque a Alura! #AgentesIA #InteligenciaArtificial #Alura #Inovacao\n> \n"
          },
          "metadata": {}
        },
        {
          "output_type": "stream",
          "name": "stdout",
          "text": [
            "------------------------------------------------------------------------------------------------------------------------\n",
            "\n",
            "--- Resultados do Agente 4 (Revisor) ---\n",
            "\n"
          ]
        },
        {
          "output_type": "display_data",
          "data": {
            "text/plain": [
              "<IPython.core.display.Markdown object>"
            ],
            "text/markdown": "> O rascunho está bom, mas podemos deixá-lo ainda mais atraente para o público do Instagram, com foco em jovens de 18 a 30 anos. Aqui estão algumas sugestões:\n> \n> *   **Cena 1:** Em vez de apenas a logo da Alura e gráficos, que tal mostrar rapidamente exemplos de resultados que os Agentes de IA trazem? Ex: um gráfico de vendas subindo, um indicador de satisfação do cliente aumentando, etc. Isso cria um impacto visual imediato.\n> *   **Cena 2:** Troque \"mini-robôs inteligentes\" por algo mais moderno e divertido, como \"seus novos estagiários digitais\" ou \"seus assistentes turbo\".\n> *   **Cena 3:** Use números! Em vez de só falar que \"turbinam a experiência\", mostre um exemplo: \"No varejo, aumentam as vendas em 20%!\". Isso torna a informação mais concreta e interessante. Além disso, use exemplos mais próximos da realidade do público jovem. Em vez de \"combatem fraudes no financeiro\", que tal \"te ajudam a conseguir as melhores ofertas e promoções online\"?\n> *   **Cena 4:** Em vez de apenas mostrar as plataformas, faça uma montagem rápida mostrando o que dá para FAZER com elas. Ex: alguém criando um chatbot, analisando dados em um dashboard, etc.\n> *   **Cena 5:** O locutor pode usar uma roupa mais moderna e falar de um jeito mais direto, como se estivesse dando um \"bizu\" (dica rápida) para os amigos.\n> *   **Cena 6:** Adicione um elemento de \"challenge\" ou pergunta para aumentar o engajamento. Ex: \"Qual tarefa você automatizaria AGORA com Agentes de IA? Comenta aqui embaixo!\". Inclua emojis mais chamativos ao longo do texto na tela.\n> \n> **Revisão do Rascunho com sugestões:**\n> \n> **[Cena 1: Abertura dinâmica com a logo da Alura, gráficos de crescimento + EXEMPLOS de resultados (vendas aumentando, satisfação do cliente, etc.)]**\n> \n> **Locutor(a):** Se liga nessa! 🤯 A revolução da produtividade chegou e o nome dela é: Agentes de Inteligência Artificial! Seus novos estagiários digitais estão prontos para turbinar sua vida (e sua empresa)!\n> \n> **[Cena 2: Animação simples explicando o que são Agentes de IA]**\n> \n> **Locutor(a):** Sabe aquelas tarefas repetitivas e demoradas que ninguém aguenta mais? 😫 Esquece! Agentes de IA são como assistentes turbo que aprendem e automatizam tudo, desde responder Direct no Insta até analisar seus gastos no cartão! 🤑\n> \n> **[Cena 3: Exemplos visuais de aplicações em diferentes setores (varejo, saúde, financeiro) COM NÚMEROS]**\n> \n> **Locutor(a):** E não para por aí! 🚀\n> * No **varejo**, eles aumentam as vendas em 20%! 📈\n> * Na **saúde**, agilizam diagnósticos e salvam vidas! 🩺\n> * E te ajudam a conseguir as melhores ofertas e promoções online! 😎\n> \n> **[Cena 4: Tela mostrando plataformas/ferramentas (Botpress, LangChain, etc.) COM exemplos rápidos do que dá para fazer com elas]**\n> \n> **Locutor(a):** E a Alura te prepara para construir e usar essas ferramentas! 🛠️ Crie chatbots incríveis, analise dados como um ninja e automatize tudo!\n> \n> **[Cena 5: Locutor(a) em frente à câmera, com um sorriso e roupa moderna]**\n> \n> **Locutor(a):** Quer saber como implementar essa tecnologia na sua empresa (ou até no seu projeto pessoal)? 💡 Cola na Alura que a gente te ensina TUDO! 😉 Comece agora e não fique para trás!\n> \n> **[Cena 6: Encerramento com CTA e logo da Alura + PERGUNTA PARA A AUDIÊNCIA]**\n> \n> **Texto na tela:** Qual tarefa você automatizaria AGORA com Agentes de IA? 🤔 Comenta aqui embaixo! 👇 Marque a Alura! 😉 #AgentesIA #InteligenciaArtificial #Alura #Inovacao #estagioIA\n> \n"
          },
          "metadata": {}
        },
        {
          "output_type": "stream",
          "name": "stdout",
          "text": [
            "------------------------------------------------------------------------------------------------------------------------\n"
          ]
        }
      ]
    }
  ]
}